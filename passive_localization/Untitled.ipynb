{
 "cells": [
  {
   "cell_type": "code",
   "execution_count": 18,
   "metadata": {},
   "outputs": [],
   "source": [
    "import numpy as np\n",
    "from matplotlib import pyplot as plt"
   ]
  },
  {
   "cell_type": "code",
   "execution_count": 61,
   "metadata": {
    "scrolled": true
   },
   "outputs": [
    {
     "data": {
      "text/plain": [
       "[<matplotlib.lines.Line2D at 0x11bf1ccd0>]"
      ]
     },
     "execution_count": 61,
     "metadata": {},
     "output_type": "execute_result"
    },
    {
     "data": {
      "image/png": "[encoded data removed]",
      "text/plain": [
       "<Figure size 640x480 with 1 Axes>"
      ]
     },
     "metadata": {},
     "output_type": "display_data"
    }
   ],
   "source": [
    "n = 10\n",
    "i,j = np.mgrid[0:n:1, 0:n+1:1]\n",
    "i1, j1 = i.flatten(), j.flatten()\n",
    "\n",
    "i,j = np.mgrid[0:n+1:1, 0:n:1]\n",
    "i2, j2 = i.flatten(), j.flatten()\n",
    "\n",
    "scale = 10\n",
    "\n",
    "p = 0.5\n",
    "m1 = np.random.uniform(size=len(i1)) > p\n",
    "i1,j1 = i1[m1], j1[m1]\n",
    "\n",
    "m2 = np.random.uniform(size=len(i2)) > p\n",
    "i2,j2 = i2[m2], j2[m2]\n",
    "\n",
    "x1 = np.stack([i1, i1+1, np.full(len(i1), np.nan)], axis=1).flatten()\n",
    "y1 = np.stack([j1, j1, np.full(len(i1), np.nan)], axis=1).flatten()\n",
    "\n",
    "x2 = np.stack([i2, i2, np.full(len(i2), np.nan)], axis=1).flatten()\n",
    "y2 = np.stack([j2+1, j2, np.full(len(i2), np.nan)], axis=1).flatten()\n",
    "\n",
    "x = np.concatenate([x1,x2])\n",
    "y = np.concatenate([y1,y2])\n",
    "\n",
    "plt.plot(scale*x,scale*y)"
   ]
  },
  {
   "cell_type": "code",
   "execution_count": 110,
   "metadata": {},
   "outputs": [],
   "source": [
    "from maze_dataset import MazeDataset, MazeDatasetConfig\n",
    "from maze_dataset.generation import LatticeMazeGenerators\n",
    "cfg: MazeDatasetConfig = MazeDatasetConfig(\n",
    "\tname=\"test\", # name is only for you to keep track of things\n",
    "\tgrid_n=10, # number of rows/columns in the lattice\n",
    "\tn_mazes=100, # number of mazes to generate\n",
    "\tmaze_ctor=LatticeMazeGenerators.gen_wilson, # algorithm to generate the maze\n",
    "    maze_ctor_kwargs=dict(), # additional parameters to pass to the maze generation algorithm\n",
    ")"
   ]
  },
  {
   "cell_type": "code",
   "execution_count": 111,
   "metadata": {},
   "outputs": [],
   "source": [
    "dataset = MazeDataset.from_config(cfg)"
   ]
  },
  {
   "cell_type": "code",
   "execution_count": 115,
   "metadata": {},
   "outputs": [
    {
     "ename": "AttributeError",
     "evalue": "'NoneType' object has no attribute 'get'",
     "output_type": "error",
     "traceback": [
      "\u001b[0;31m---------------------------------------------------------------------------\u001b[0m",
      "\u001b[0;31mAttributeError\u001b[0m                            Traceback (most recent call last)",
      "Cell \u001b[0;32mIn[115], line 1\u001b[0m\n\u001b[0;32m----> 1\u001b[0m \u001b[43mdataset\u001b[49m\u001b[43m[\u001b[49m\u001b[38;5;241;43m1\u001b[39;49m\u001b[43m]\u001b[49m\u001b[38;5;241;43m.\u001b[39;49m\u001b[43mmaze\u001b[49m\u001b[38;5;241;43m.\u001b[39;49m\u001b[43mgenerate_random_path\u001b[49m\u001b[43m(\u001b[49m\u001b[43m)\u001b[49m\n\u001b[1;32m      2\u001b[0m \u001b[38;5;66;03m#.generate_random_path()\u001b[39;00m\n\u001b[1;32m      3\u001b[0m \u001b[38;5;66;03m#()\u001b[39;00m\n",
      "File \u001b[0;32m~/miniconda3/envs/eth_localization/lib/python3.11/site-packages/maze_dataset/maze/lattice_maze.py:339\u001b[0m, in \u001b[0;36mLatticeMaze.generate_random_path\u001b[0;34m(self, except_when_invalid)\u001b[0m\n\u001b[1;32m    336\u001b[0m \u001b[38;5;66;03m# we can't create a \"path\" in a single-node maze\u001b[39;00m\n\u001b[1;32m    337\u001b[0m \u001b[38;5;28;01massert\u001b[39;00m \u001b[38;5;28mself\u001b[39m\u001b[38;5;241m.\u001b[39mgrid_shape[\u001b[38;5;241m0\u001b[39m] \u001b[38;5;241m>\u001b[39m \u001b[38;5;241m1\u001b[39m \u001b[38;5;129;01mand\u001b[39;00m \u001b[38;5;28mself\u001b[39m\u001b[38;5;241m.\u001b[39mgrid_shape[\u001b[38;5;241m1\u001b[39m] \u001b[38;5;241m>\u001b[39m \u001b[38;5;241m1\u001b[39m\n\u001b[0;32m--> 339\u001b[0m connected_component: CoordArray \u001b[38;5;241m=\u001b[39m \u001b[38;5;28;43mself\u001b[39;49m\u001b[38;5;241;43m.\u001b[39;49m\u001b[43mget_connected_component\u001b[49m\u001b[43m(\u001b[49m\u001b[43m)\u001b[49m\n\u001b[1;32m    340\u001b[0m positions: Int[np\u001b[38;5;241m.\u001b[39mint8, \u001b[38;5;124m\"\u001b[39m\u001b[38;5;124m2 2\u001b[39m\u001b[38;5;124m\"\u001b[39m]\n\u001b[1;32m    341\u001b[0m \u001b[38;5;28;01mif\u001b[39;00m \u001b[38;5;28mlen\u001b[39m(connected_component) \u001b[38;5;241m<\u001b[39m \u001b[38;5;241m2\u001b[39m:\n",
      "File \u001b[0;32m~/miniconda3/envs/eth_localization/lib/python3.11/site-packages/maze_dataset/maze/lattice_maze.py:316\u001b[0m, in \u001b[0;36mLatticeMaze.get_connected_component\u001b[0;34m(self)\u001b[0m\n\u001b[1;32m    311\u001b[0m \u001b[38;5;28;01mdef\u001b[39;00m \u001b[38;5;21mget_connected_component\u001b[39m(\u001b[38;5;28mself\u001b[39m) \u001b[38;5;241m-\u001b[39m\u001b[38;5;241m>\u001b[39m CoordArray:\n\u001b[1;32m    312\u001b[0m \u001b[38;5;250m    \u001b[39m\u001b[38;5;124;03m\"\"\"get the largest (and assumed only nonsingular) connected component of the maze\u001b[39;00m\n\u001b[1;32m    313\u001b[0m \n\u001b[1;32m    314\u001b[0m \u001b[38;5;124;03m    TODO: other connected components?\u001b[39;00m\n\u001b[1;32m    315\u001b[0m \u001b[38;5;124;03m    \"\"\"\u001b[39;00m\n\u001b[0;32m--> 316\u001b[0m     \u001b[38;5;28;01mif\u001b[39;00m \u001b[38;5;28;43mself\u001b[39;49m\u001b[38;5;241;43m.\u001b[39;49m\u001b[43mgeneration_meta\u001b[49m\u001b[38;5;241;43m.\u001b[39;49m\u001b[43mget\u001b[49m(\u001b[38;5;124m\"\u001b[39m\u001b[38;5;124mfully_connected\u001b[39m\u001b[38;5;124m\"\u001b[39m, \u001b[38;5;28;01mFalse\u001b[39;00m):\n\u001b[1;32m    317\u001b[0m         \u001b[38;5;66;03m# for fully connected case, pick any two positions\u001b[39;00m\n\u001b[1;32m    318\u001b[0m         \u001b[38;5;28;01mreturn\u001b[39;00m \u001b[38;5;28mself\u001b[39m\u001b[38;5;241m.\u001b[39mget_nodes()\n\u001b[1;32m    319\u001b[0m     \u001b[38;5;28;01melse\u001b[39;00m:\n\u001b[1;32m    320\u001b[0m         \u001b[38;5;66;03m# if not fully connected, pick two positions from the connected component\u001b[39;00m\n",
      "\u001b[0;31mAttributeError\u001b[0m: 'NoneType' object has no attribute 'get'"
     ]
    }
   ],
   "source": [
    "dataset[1].maze.generate_random_path()\n",
    "#.generate_random_path()\n",
    "#()"
   ]
  },
  {
   "cell_type": "code",
   "execution_count": 100,
   "metadata": {},
   "outputs": [
    {
     "ename": "TypeError",
     "evalue": "Cannot interpret '10' as a data type",
     "output_type": "error",
     "traceback": [
      "\u001b[0;31m---------------------------------------------------------------------------\u001b[0m",
      "\u001b[0;31mTypeError\u001b[0m                                 Traceback (most recent call last)",
      "Cell \u001b[0;32mIn[100], line 9\u001b[0m\n\u001b[1;32m      6\u001b[0m         solutions\u001b[38;5;241m.\u001b[39mappend(solutions)\n\u001b[1;32m      7\u001b[0m     \u001b[38;5;28;01mreturn\u001b[39;00m maze, solutions\n\u001b[0;32m----> 9\u001b[0m \u001b[43mgen_paths\u001b[49m\u001b[43m(\u001b[49m\u001b[43mn_solutions\u001b[49m\u001b[38;5;241;43m=\u001b[39;49m\u001b[38;5;241;43m10\u001b[39;49m\u001b[43m,\u001b[49m\u001b[43m \u001b[49m\u001b[43mgrid_n\u001b[49m\u001b[38;5;241;43m=\u001b[39;49m\u001b[38;5;241;43m10\u001b[39;49m\u001b[43m)\u001b[49m\n",
      "Cell \u001b[0;32mIn[100], line 2\u001b[0m, in \u001b[0;36mgen_paths\u001b[0;34m(n_solutions, grid_n, maze_ctor, maze_ctor_kwargs)\u001b[0m\n\u001b[1;32m      1\u001b[0m \u001b[38;5;28;01mdef\u001b[39;00m \u001b[38;5;21mgen_paths\u001b[39m(n_solutions, grid_n, maze_ctor\u001b[38;5;241m=\u001b[39mLatticeMazeGenerators\u001b[38;5;241m.\u001b[39mgen_wilson, maze_ctor_kwargs\u001b[38;5;241m=\u001b[39m\u001b[38;5;28mdict\u001b[39m()):\n\u001b[0;32m----> 2\u001b[0m     maze: LatticeMaze \u001b[38;5;241m=\u001b[39m maze_ctor(\u001b[43mCoord\u001b[49m\u001b[43m(\u001b[49m\u001b[43mgrid_n\u001b[49m\u001b[43m,\u001b[49m\u001b[43mgrid_n\u001b[49m\u001b[43m)\u001b[49m, \u001b[38;5;241m*\u001b[39m\u001b[38;5;241m*\u001b[39mmaze_ctor_kwargs)\n\u001b[1;32m      3\u001b[0m     solutions: [CoordArray] \u001b[38;5;241m=\u001b[39m []\n\u001b[1;32m      4\u001b[0m     \u001b[38;5;28;01mfor\u001b[39;00m i \u001b[38;5;129;01min\u001b[39;00m \u001b[38;5;28mrange\u001b[39m():\n",
      "\u001b[0;31mTypeError\u001b[0m: Cannot interpret '10' as a data type"
     ]
    }
   ],
   "source": [
    "def gen_paths(n_solutions, grid_n, maze_ctor=LatticeMazeGenerators.gen_wilson, maze_ctor_kwargs=dict()):\n",
    "    maze: LatticeMaze = maze_ctor(jax.(grid_n,grid_n), **maze_ctor_kwargs)\n",
    "    solutions: [CoordArray] = []\n",
    "    for i in range():\n",
    "        solution: CoordArray = np.array(maze.generate_random_path())\n",
    "        solutions.append(solutions)\n",
    "    return maze, solutions\n",
    "    \n",
    "gen_paths(n_solutions=10, grid_n=10)"
   ]
  },
  {
   "cell_type": "code",
   "execution_count": 126,
   "metadata": {},
   "outputs": [
    {
     "data": {
      "text/plain": [
       "[<matplotlib.lines.Line2D at 0x1239c45d0>]"
      ]
     },
     "execution_count": 126,
     "metadata": {},
     "output_type": "execute_result"
    },
    {
     "data": {
      "image/png": "[encoded data removed]",
      "text/plain": [
       "<Figure size 640x480 with 1 Axes>"
      ]
     },
     "metadata": {},
     "output_type": "display_data"
    }
   ],
   "source": [
    "maze = dataset[0]\n",
    "\n",
    "\n",
    "path = maze.solution\n",
    "x, y = path[:,1], path[:,0]\n",
    "img = maze.maze.as_pixels()\n",
    "plt.imshow(img)\n",
    "plt.plot((x+0.5)*img.shape[1]/10,(y+0.5)*img.shape[0] / 10)"
   ]
  },
  {
   "cell_type": "code",
   "execution_count": null,
   "metadata": {},
   "outputs": [],
   "source": []
  }
 ],
 "metadata": {
  "kernelspec": {
   "display_name": "eth_localization_kernel",
   "language": "python",
   "name": "eth_localization_kernel"
  },
  "language_info": {
   "codemirror_mode": {
    "name": "ipython",
    "version": 3
   },
   "file_extension": ".py",
   "mimetype": "text/x-python",
   "name": "python",
   "nbconvert_exporter": "python",
   "pygments_lexer": "ipython3",
   "version": "3.11.8"
  }
 },
 "nbformat": 4,
 "nbformat_minor": 2
}
